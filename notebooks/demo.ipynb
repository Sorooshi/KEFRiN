{
 "cells": [
  {
   "cell_type": "code",
   "execution_count": 1,
   "id": "painful-rescue",
   "metadata": {},
   "outputs": [],
   "source": [
    "import numpy as np\n",
    "from kefrin import KEFRiNe, KEFRiNc, KEFRiNm\n",
    "from sklearn import metrics\n",
    "import processing_tools as pt\n",
    "\n"
   ]
  },
  {
   "cell_type": "markdown",
   "id": "removable-impact",
   "metadata": {},
   "source": [
    "### Load dataset"
   ]
  },
  {
   "cell_type": "code",
   "execution_count": 2,
   "id": "sweet-pastor",
   "metadata": {},
   "outputs": [
    {
     "name": "stdout",
     "output_type": "stream",
     "text": [
      "(46, 46) (46, 5) (46,)\n"
     ]
    }
   ],
   "source": [
    "p = np.loadtxt(\"../data/COSN/P.npy\")\n",
    "y = np.loadtxt(\"../data/COSN/y.npy\")\n",
    "gt = np.load(\"../data/COSN/ground_truth.npy\")\n",
    "\n",
    "print(p.shape, y.shape, gt.shape)"
   ]
  },
  {
   "cell_type": "markdown",
   "id": "brazilian-underwear",
   "metadata": {},
   "source": [
    "### preprocessing the data"
   ]
  },
  {
   "cell_type": "code",
   "execution_count": 3,
   "id": "resident-basin",
   "metadata": {},
   "outputs": [],
   "source": [
    "p_, _, p_z, _, p_rng, _, = pt.preprocess_y(y_in=p, data_type='Q')\n",
    "y_, _, y_z, _, y_rng, _, = pt.preprocess_y(y_in=y, data_type='Q')"
   ]
  },
  {
   "cell_type": "code",
   "execution_count": null,
   "id": "controlling-farmer",
   "metadata": {},
   "outputs": [],
   "source": []
  },
  {
   "cell_type": "markdown",
   "id": "liked-spell",
   "metadata": {},
   "source": [
    "## Applying KEFRiNe\n",
    "\n",
    "### KEFRiNe"
   ]
  },
  {
   "cell_type": "code",
   "execution_count": 4,
   "id": "weekly-nitrogen",
   "metadata": {},
   "outputs": [],
   "source": [
    "KEFRiNe_results = KEFRiNe(y_z, p, n_clusters=2, rho=1, xi=1, max_iterations=1000)"
   ]
  },
  {
   "cell_type": "code",
   "execution_count": 5,
   "id": "hearing-healing",
   "metadata": {},
   "outputs": [
    {
     "data": {
      "text/plain": [
       "array([0, 0, 0, 0, 1, 1, 0, 0, 0, 0, 0, 0, 0, 0, 0, 0, 1, 0, 1, 1, 1, 0, 1, 0, 1, 1, 1, 1, 1, 0, 0, 0, 0, 0, 0, 1, 0,\n",
       "       0, 1, 0, 0, 0, 0, 1, 1, 0])"
      ]
     },
     "execution_count": 5,
     "metadata": {},
     "output_type": "execute_result"
    }
   ],
   "source": [
    "KEFRiNe_results"
   ]
  },
  {
   "cell_type": "code",
   "execution_count": 6,
   "id": "animal-cylinder",
   "metadata": {},
   "outputs": [],
   "source": [
    "KEFRiNc_results = KEFRiNc(y_z, p, n_clusters=2, rho=1, xi=1, max_iterations=1000)"
   ]
  },
  {
   "cell_type": "code",
   "execution_count": 7,
   "id": "studied-redhead",
   "metadata": {},
   "outputs": [
    {
     "data": {
      "text/plain": [
       "array([0, 1, 0, 0, 1, 1, 1, 0, 0, 0, 1, 0, 1, 1, 0, 0, 1, 1, 1, 1, 1, 0, 1, 1, 1, 1, 1, 1, 1, 1, 0, 0, 0, 0, 1, 1, 0,\n",
       "       1, 1, 0, 0, 0, 0, 1, 1, 0])"
      ]
     },
     "execution_count": 7,
     "metadata": {},
     "output_type": "execute_result"
    }
   ],
   "source": [
    "KEFRiNc_results"
   ]
  },
  {
   "cell_type": "code",
   "execution_count": null,
   "id": "registered-indian",
   "metadata": {},
   "outputs": [],
   "source": []
  },
  {
   "cell_type": "code",
   "execution_count": 8,
   "id": "entitled-hearing",
   "metadata": {},
   "outputs": [
    {
     "name": "stdout",
     "output_type": "stream",
     "text": [
      "KEFRiNe ARI: 0.3045912653975364 \n",
      "KEFRiNc ARI: 1.0\n"
     ]
    }
   ],
   "source": [
    "print(\"KEFRiNe ARI:\", metrics.adjusted_rand_score(gt, KEFRiNe_results), \"\\n\"\n",
    "      \"KEFRiNc ARI:\", metrics.adjusted_rand_score(gt, KEFRiNc_results),)"
   ]
  },
  {
   "cell_type": "code",
   "execution_count": null,
   "id": "lovely-google",
   "metadata": {},
   "outputs": [],
   "source": []
  },
  {
   "cell_type": "code",
   "execution_count": null,
   "id": "spatial-recruitment",
   "metadata": {},
   "outputs": [],
   "source": []
  }
 ],
 "metadata": {
  "kernelspec": {
   "display_name": "tfvenv",
   "language": "python",
   "name": "tfvenv"
  },
  "language_info": {
   "codemirror_mode": {
    "name": "ipython",
    "version": 3
   },
   "file_extension": ".py",
   "mimetype": "text/x-python",
   "name": "python",
   "nbconvert_exporter": "python",
   "pygments_lexer": "ipython3",
   "version": "3.8.6"
  }
 },
 "nbformat": 4,
 "nbformat_minor": 5
}
